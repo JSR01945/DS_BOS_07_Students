{
 "cells": [
  {
   "cell_type": "markdown",
   "metadata": {},
   "source": [
    "#Predicting Bitcoin Price"
   ]
  },
  {
   "cell_type": "markdown",
   "metadata": {},
   "source": [
    "##Data Analysis"
   ]
  },
  {
   "cell_type": "markdown",
   "metadata": {},
   "source": [
    "Use the exported data from 'Data Collection and Exploration' notebook to create a model for predicting the next day market price of bitcoin."
   ]
  },
  {
   "cell_type": "markdown",
   "metadata": {},
   "source": [
    "###Imports"
   ]
  },
  {
   "cell_type": "code",
   "execution_count": 2,
   "metadata": {
    "collapsed": true
   },
   "outputs": [],
   "source": [
    "import pandas as pd\n",
    "import numpy as np\n",
    "import statsmodels.formula.api as smf\n",
    "import random\n",
    "from sklearn.linear_model import LinearRegression\n",
    "\n",
    "import matplotlib.pyplot as plt"
   ]
  },
  {
   "cell_type": "markdown",
   "metadata": {},
   "source": [
    "###Data Munging"
   ]
  },
  {
   "cell_type": "markdown",
   "metadata": {},
   "source": [
    "Create the outcome variable `next_day`."
   ]
  },
  {
   "cell_type": "markdown",
   "metadata": {},
   "source": [
    "data = pd.read_csv('bitcoin_price.csv')\n",
    "\n",
    "data['trend'] = 0\n",
    "\n",
    "next_day = data['price_usd'].iloc[1:]\n",
    "data = data.iloc[:-1,:]\n",
    "data['next_day'] = next_day.values"
   ]
  },
  {
   "cell_type": "markdown",
   "metadata": {},
   "source": [
    "Create features for moving averages for price and volume."
   ]
  },
  {
   "cell_type": "code",
   "execution_count": null,
   "metadata": {
    "collapsed": true
   },
   "outputs": [],
   "source": [
    "data['ma_price_3'] = pd.rolling_mean(data['price_usd'], 3)\n",
    "data['ma_price_7'] = pd.rolling_mean(data['price_usd'], 7)\n",
    "\n",
    "data['ma_volume_3'] = pd.rolling_mean(data['transaction_vol'], 3)\n",
    "data['ma_volume_7'] = pd.rolling_mean(data['transaction_vol'], 7)\n",
    "\n",
    "data.dropna()"
   ]
  },
  {
   "cell_type": "markdown",
   "metadata": {},
   "source": [
    "Read in the Google Trends result and merge with the main data set."
   ]
  },
  {
   "cell_type": "code",
   "execution_count": null,
   "metadata": {
    "collapsed": true
   },
   "outputs": [],
   "source": [
    "def merge_columns(main, other):\n",
    "    result = pd.merge(left=main,right=other, how='outer', left_on='date', right_on='date')\n",
    "    \n",
    "    return result\n",
    "\n",
    "\n",
    "trends = pd.read_csv('bitcoin_trends.csv')\n",
    "data = merge_columns(data, trends)\n"
   ]
  },
  {
   "cell_type": "markdown",
   "metadata": {},
   "source": [
    "Select data subset of interest. Early timepoints with very low or sparse data are excluded from analysis."
   ]
  },
  {
   "cell_type": "code",
   "execution_count": null,
   "metadata": {
    "collapsed": true
   },
   "outputs": [],
   "source": [
    "data = data[(data.date >= '2011-01-01') & (data.date <= '2015-12-31')]\n",
    "\n",
    "columns = set(data.columns.values)\n",
    "selected_columns = list(columns - set(['date', 'Unnamed: 0', 'block_transactions']))\n",
    "\n",
    "\n",
    "df = data[selected_columns]\n",
    "print selected_columns"
   ]
  },
  {
   "cell_type": "markdown",
   "metadata": {},
   "source": [
    "### Ordinary Least-Squares Regression Model"
   ]
  },
  {
   "cell_type": "code",
   "execution_count": null,
   "metadata": {
    "collapsed": true
   },
   "outputs": [],
   "source": [
    "lm = smf.ols('next_day ~ exchange_vol_usd + blockchain_size + trend + miners_revenue + orphaned_blocks + transaction_vol + unique_addresses + sub100_transactions + nonpopular_transactions + block_size + total_bitcoins + total_transactions + index + sub10000_transactions + bitcoin + ma_price_7 + ma_price_3 + deficit + market_cap + percent_cost + short_transactions + sub1000_transactions + difficulty + sub10_transactions + all_transactions + trade_transaction_ratio + ma_volume_3 + price_usd + ma_volume_7 + transaction_fees_usd + confirmation_time + transaction_cost + output_vol + hash_rate + transaction_fees', data=df)\n",
    "fit1 = lm.fit()\n",
    "print fit1.summary()"
   ]
  },
  {
   "cell_type": "markdown",
   "metadata": {},
   "source": [
    "TODO: Analyze the P-values of each feature to determine suitability for inclusion in further analysis."
   ]
  },
  {
   "cell_type": "markdown",
   "metadata": {},
   "source": [
    "###Linear Regression Analysis"
   ]
  },
  {
   "cell_type": "markdown",
   "metadata": {},
   "source": [
    "Split the data into training and test set."
   ]
  },
  {
   "cell_type": "code",
   "execution_count": null,
   "metadata": {
    "collapsed": true
   },
   "outputs": [],
   "source": [
    "np.random.seed(1)\n",
    "random.seed(1)\n",
    "data = data.loc[np.random.permutation(data.index)]\n",
    "\n",
    "# Select 70% of the dataset to be training data\n",
    "highest_train_row = int(data.shape[0] * .7)\n",
    "train = data.loc[:highest_train_row,:]\n",
    "\n",
    "# Select 30% of the dataset to be test data.\n",
    "test = data.loc[highest_train_row:,:]"
   ]
  },
  {
   "cell_type": "markdown",
   "metadata": {},
   "source": [
    "Define the method to generate a regression model."
   ]
  },
  {
   "cell_type": "code",
   "execution_count": null,
   "metadata": {
    "collapsed": true
   },
   "outputs": [],
   "source": [
    "def regression_model(predictor):\n",
    "    regressor= LinearRegression()\n",
    "\n",
    "    regressor.fit(train[predictor], train['next_day'])\n",
    "    predictions = regressor.predict(test[predictor])\n",
    "    mse = sum((predictions - test['next_day']) ** 2) / len(predictions)\n",
    "\n",
    "    return regressor, predictions, mse"
   ]
  },
  {
   "cell_type": "markdown",
   "metadata": {},
   "source": [
    "Define the method to visualize the model statistics. Make scatterplots with the actual values in the training set and test set."
   ]
  },
  {
   "cell_type": "code",
   "execution_count": null,
   "metadata": {
    "collapsed": true
   },
   "outputs": [],
   "source": [
    "def draw_scatterplot(predictor, regressor, predictions):\n",
    "    \n",
    "    plt.scatter(train[predictor], train['next_day'])\n",
    "    plt.plot(train[predictor], regressor.predict(train[predictor]))\n",
    "    plt.show()\n",
    "    plt.scatter(test[predictor], test['next_day'])\n",
    "    plt.plot(test[predictor], predictions)\n",
    "    plt.show()\n"
   ]
  },
  {
   "cell_type": "markdown",
   "metadata": {},
   "source": [
    "Try out different models parameters."
   ]
  },
  {
   "cell_type": "code",
   "execution_count": null,
   "metadata": {
    "collapsed": true
   },
   "outputs": [],
   "source": [
    "rm , predictions, mse = regression_model(['price_usd'])\n",
    "#draw_scatterplot('price_usd', rm, predictions)\n",
    "print mse # 206.12217429c\n",
    "\n",
    "rm, predictions, mse = regression_model(['trend'])\n",
    "print mse # 46367.4115111\n",
    "\n",
    "rm, predictions, mse = regression_model(['transaction_vol', 'price_usd'])\n",
    "print mse # 206.373259397"
   ]
  },
  {
   "cell_type": "markdown",
   "metadata": {},
   "source": [
    "TODO: Feature selection and feature engineering to further improve the model"
   ]
  },
  {
   "cell_type": "code",
   "execution_count": null,
   "metadata": {
    "collapsed": true
   },
   "outputs": [],
   "source": []
  }
 ],
 "metadata": {
  "kernelspec": {
   "display_name": "Python 2",
   "language": "python",
   "name": "python2"
  },
  "language_info": {
   "codemirror_mode": {
    "name": "ipython",
    "version": 2
   },
   "file_extension": ".py",
   "mimetype": "text/x-python",
   "name": "python",
   "nbconvert_exporter": "python",
   "pygments_lexer": "ipython2",
   "version": "2.7.9"
  }
 },
 "nbformat": 4,
 "nbformat_minor": 0
}
