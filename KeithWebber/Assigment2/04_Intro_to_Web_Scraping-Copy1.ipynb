{
 "cells": [
  {
   "cell_type": "markdown",
   "metadata": {},
   "source": []
  },
  {
   "cell_type": "code",
   "execution_count": 1,
   "metadata": {
    "collapsed": false
   },
   "outputs": [
    {
     "name": "stdout",
     "output_type": "stream",
     "text": [
      "<class 'bs4.BeautifulSoup'>\n"
     ]
    }
   ],
   "source": [
    "from bs4 import BeautifulSoup\n",
    "import urllib2\n",
    "page = urllib2.urlopen('http://espn.go.com/nba/statistics/player/_/stat/scoring-per-game/sort/avgPoints/qualified/false').read()\n",
    "soup = BeautifulSoup(page)\n",
    "print type(soup)"
   ]
  },
  {
   "cell_type": "markdown",
   "metadata": {},
   "source": []
  },
  {
   "cell_type": "code",
   "execution_count": 2,
   "metadata": {
    "collapsed": false
   },
   "outputs": [
    {
     "data": {
      "text/plain": [
       "u'<!DOCTYPE html>\\n<html xmlns:fb=\"http://www.facebook.com/2008/fbml\">\\n <head>\\n  <script src=\"http://sports-ak.espn.go.com/sports/optimizely.js\">\\n  </script>\\n  <meta charset=\"utf-8\"/>\\n  <meta content=\"IE=edge,chrome=1\" http-equiv=\"X-UA-Compatible\"/>\\n  <link href=\"http://a.espncdn.com/prod/assets/icons/E.svg\" mask=\"\" rel=\"icon\" sizes=\"any\"/>\\n  <meta content=\"#CC0000\" name=\"theme-color\"/>\\n  <script type=\"text/javascript\">\\n   if(true && navigator && navigator.userAgent.toLowerCase().indexOf(\"teamstream\") >= 0) {\\n        window.location = \\'http://a.m.espn.go.com/mobilecache/general/apps/sc\\';\\n    }\\n  </script>\\n  <title>\\n   2015-16 Regular Season NBA Player Stats and League Leaders - Scoring Per Game - National Basketball Association - ESPN\\n  </title>\\n  <meta content=\"xuj1ODRluWa0frM-BjIr_aSHoUC7HB5C1MgmYAM_GkA\" name=\"google-site-verification\"/>\\n  <meta content=\"B1FEB7C682C46C8FCDA3130F3D18AC28\" name=\"msvalidate.01\"/>\\n  <meta content=\"noodp\" name=\"googlebot\"/>\\n  <meta content=\"index, follow\" na'"
      ]
     },
     "execution_count": 2,
     "metadata": {},
     "output_type": "execute_result"
    }
   ],
   "source": [
    "soup.prettify()[0:1000]"
   ]
  },
  {
   "cell_type": "markdown",
   "metadata": {},
   "source": [
    "## Parsing HTML\n",
    "\n",
    "By \"parsing HTML\", we mean pulling out only the relevant tags/attributes for our analysis.  What Beautiful Soup does is provide a handy bunch of methods for doing this efficiently.\n",
    "\n",
    "### find method\n",
    "\n",
    "The find method will search for and return the first tag matching your corresponding search criteria, if it exists.  You can specify tag and attribute info etc.  There is also a findAll method that will return a collection of tags matching your query."
   ]
  },
  {
   "cell_type": "code",
   "execution_count": 3,
   "metadata": {
    "collapsed": false
   },
   "outputs": [],
   "source": [
    "table_div = soup.find(id='my-players-table')\n",
    "# print table_div.prettify()[0:4000]"
   ]
  },
  {
   "cell_type": "markdown",
   "metadata": {},
   "source": [
    "Notice that the object returned by the find method is just another inner HTML structure, which we can step through just like we would have with the original soup object.  We've gone to the location in the webpage where the table that we seek starts, now we can use find again to get to the table data."
   ]
  },
  {
   "cell_type": "code",
   "execution_count": 4,
   "metadata": {
    "collapsed": false
   },
   "outputs": [],
   "source": [
    "table = table_div.find(\"table\")\n",
    "# print table"
   ]
  },
  {
   "cell_type": "markdown",
   "metadata": {},
   "source": [
    "### Searching by Attributes\n",
    "\n",
    "Now that we have the table object, we need to step through the rows.  First we'll find the header row so we can populate what the field names will be in our data.  Here we're searching for tags under the table tag whose class attritbute is \"colhead\".  "
   ]
  },
  {
   "cell_type": "code",
   "execution_count": 5,
   "metadata": {
    "collapsed": false
   },
   "outputs": [],
   "source": [
    "table_head = table.find(attrs={\"class\":'colhead'})\n",
    "# print table_head.prettify()"
   ]
  },
  {
   "cell_type": "markdown",
   "metadata": {},
   "source": [
    "Now we find the actual values by searching for the 'td' tags, which is the tag for table data."
   ]
  },
  {
   "cell_type": "code",
   "execution_count": 6,
   "metadata": {
    "collapsed": false
   },
   "outputs": [],
   "source": [
    "header_cols = table_head.findAll('td')\n",
    "# print header_cols"
   ]
  },
  {
   "cell_type": "markdown",
   "metadata": {},
   "source": [
    "Finally, we step through these columns and save them to a list to be used later.  We'll ignore the rank column (RK) because that doesn't give us anything we want later.  We also separate the **PLAYER** column into **PLAYER** and **POSITION**."
   ]
  },
  {
   "cell_type": "code",
   "execution_count": 7,
   "metadata": {
    "collapsed": false
   },
   "outputs": [
    {
     "name": "stdout",
     "output_type": "stream",
     "text": [
      "[u'PLAYER', 'POSITION', u'TEAM', u'GP', u'MPG', u'PTS', u'FGM-FGA', u'FG%', u'3PM-3PA', u'3P%', u'FTM-FTA', u'FT%']\n"
     ]
    }
   ],
   "source": [
    "cols = []\n",
    "for header_col in header_cols:\n",
    "    val = header_col.string\n",
    "    if val != 'RK':\n",
    "        cols.append(val)\n",
    "    if val == 'PLAYER':\n",
    "        cols.append('POSITION')\n",
    "print cols"
   ]
  },
  {
   "cell_type": "markdown",
   "metadata": {},
   "source": [
    "### Stepping Through a Table\n",
    "\n",
    "The table rows are indicated by the tag 'tr'.  Again we can find them all and iterate through them.  Within each row we iterate through the respective columns."
   ]
  },
  {
   "cell_type": "code",
   "execution_count": 8,
   "metadata": {
    "collapsed": false
   },
   "outputs": [],
   "source": [
    "table_rows = table.findAll('tr')\n",
    "# print table_rows"
   ]
  },
  {
   "cell_type": "markdown",
   "metadata": {},
   "source": [
    "We will save our results in 2 different ways to demonstrate how we can handle both.  The first will be a list of dicts where the key is the field name and the value is the field value.  The second will just be a list of lists of stats with no field name values (we've already defined them earlier)."
   ]
  },
  {
   "cell_type": "code",
   "execution_count": 9,
   "metadata": {
    "collapsed": false
   },
   "outputs": [],
   "source": [
    "players_stats_dicts = []\n",
    "players_stats_array = []\n",
    "for row in table_rows:\n",
    "    if row.attrs['class'][0]=='colhead':\n",
    "        continue\n",
    "    player_stats = []\n",
    "    row_cols = row.find_all('td')\n",
    "    col_vals = []\n",
    "    player_col = row_cols[1]\n",
    "    player_name = player_col.find('a').string\n",
    "    player_position = player_col.contents[1]\n",
    "    player_position = player_position.split(' ')[1]\n",
    "    player_stats.append(player_name)\n",
    "    player_stats.append(player_position)\n",
    "    for i in range(2, len(row_cols)):\n",
    "        stat = row_cols[i].string\n",
    "        player_stats.append(stat)\n",
    "    players_stats_array.append(player_stats)\n",
    "    player_stats = dict(zip(cols, player_stats))\n",
    "    players_stats_dicts.append(player_stats)\n",
    "# print players_stats_dicts[0:5]        "
   ]
  },
  {
   "cell_type": "markdown",
   "metadata": {},
   "source": [
    "Here we've used the zip function to combine pairs of lists into tuples, and then transformed that into a dict to get a dictionary of FIELD --> VALUE for every player in the table.\n",
    "\n",
    "Beautiful Soup has many other features, including the ability to step up, down, and sideways in the HTML tree and basically search for any tags, attributes, or values.  For more, take a look at the [Documentation](http://www.crummy.com/software/BeautifulSoup/bs4/doc/)"
   ]
  },
  {
   "cell_type": "markdown",
   "metadata": {},
   "source": [
    "## Load into Pandas\n",
    "\n",
    "Let's load our scraped data into Pandas and take a look at it.  Here is the first way we can do it, simply directly from the dictionary we defined."
   ]
  },
  {
   "cell_type": "code",
   "execution_count": 10,
   "metadata": {
    "collapsed": false
   },
   "outputs": [
    {
     "data": {
      "text/html": [
       "<div>\n",
       "<table border=\"1\" class=\"dataframe\">\n",
       "  <thead>\n",
       "    <tr style=\"text-align: right;\">\n",
       "      <th></th>\n",
       "      <th>3P%</th>\n",
       "      <th>3PM-3PA</th>\n",
       "      <th>FG%</th>\n",
       "      <th>FGM-FGA</th>\n",
       "      <th>FT%</th>\n",
       "      <th>FTM-FTA</th>\n",
       "      <th>GP</th>\n",
       "      <th>MPG</th>\n",
       "      <th>PLAYER</th>\n",
       "      <th>POSITION</th>\n",
       "      <th>PTS</th>\n",
       "      <th>TEAM</th>\n",
       "    </tr>\n",
       "  </thead>\n",
       "  <tbody>\n",
       "    <tr>\n",
       "      <th>0</th>\n",
       "      <td>.488</td>\n",
       "      <td>5.3-10.8</td>\n",
       "      <td>.595</td>\n",
       "      <td>12.5-21.0</td>\n",
       "      <td>.964</td>\n",
       "      <td>6.8-7.0</td>\n",
       "      <td>4</td>\n",
       "      <td>31.8</td>\n",
       "      <td>Stephen Curry</td>\n",
       "      <td>PG</td>\n",
       "      <td>37.0</td>\n",
       "      <td>GS</td>\n",
       "    </tr>\n",
       "    <tr>\n",
       "      <th>1</th>\n",
       "      <td>.381</td>\n",
       "      <td>2.0-5.3</td>\n",
       "      <td>.523</td>\n",
       "      <td>11.5-22.0</td>\n",
       "      <td>.840</td>\n",
       "      <td>5.3-6.3</td>\n",
       "      <td>4</td>\n",
       "      <td>35.5</td>\n",
       "      <td>Russell Westbrook</td>\n",
       "      <td>PG</td>\n",
       "      <td>30.3</td>\n",
       "      <td>OKC</td>\n",
       "    </tr>\n",
       "    <tr>\n",
       "      <th>2</th>\n",
       "      <td>.414</td>\n",
       "      <td>3.0-7.3</td>\n",
       "      <td>.481</td>\n",
       "      <td>9.5-19.8</td>\n",
       "      <td>.912</td>\n",
       "      <td>7.8-8.5</td>\n",
       "      <td>4</td>\n",
       "      <td>37.8</td>\n",
       "      <td>Kevin Durant</td>\n",
       "      <td>SF</td>\n",
       "      <td>29.8</td>\n",
       "      <td>OKC</td>\n",
       "    </tr>\n",
       "    <tr>\n",
       "      <th>3</th>\n",
       "      <td>.000</td>\n",
       "      <td>0.0-0.0</td>\n",
       "      <td>.622</td>\n",
       "      <td>11.5-18.5</td>\n",
       "      <td>.743</td>\n",
       "      <td>6.5-8.8</td>\n",
       "      <td>4</td>\n",
       "      <td>33.8</td>\n",
       "      <td>Blake Griffin</td>\n",
       "      <td>PF</td>\n",
       "      <td>29.5</td>\n",
       "      <td>LAC</td>\n",
       "    </tr>\n",
       "    <tr>\n",
       "      <th>4</th>\n",
       "      <td>.344</td>\n",
       "      <td>2.8-8.0</td>\n",
       "      <td>.446</td>\n",
       "      <td>9.3-20.8</td>\n",
       "      <td>.850</td>\n",
       "      <td>4.3-5.0</td>\n",
       "      <td>4</td>\n",
       "      <td>36.8</td>\n",
       "      <td>Damian Lillard</td>\n",
       "      <td>PG</td>\n",
       "      <td>25.5</td>\n",
       "      <td>POR</td>\n",
       "    </tr>\n",
       "  </tbody>\n",
       "</table>\n",
       "</div>"
      ],
      "text/plain": [
       "    3P%   3PM-3PA   FG%    FGM-FGA   FT%  FTM-FTA GP   MPG             PLAYER  \\\n",
       "0  .488  5.3-10.8  .595  12.5-21.0  .964  6.8-7.0  4  31.8      Stephen Curry   \n",
       "1  .381   2.0-5.3  .523  11.5-22.0  .840  5.3-6.3  4  35.5  Russell Westbrook   \n",
       "2  .414   3.0-7.3  .481   9.5-19.8  .912  7.8-8.5  4  37.8       Kevin Durant   \n",
       "3  .000   0.0-0.0  .622  11.5-18.5  .743  6.5-8.8  4  33.8      Blake Griffin   \n",
       "4  .344   2.8-8.0  .446   9.3-20.8  .850  4.3-5.0  4  36.8     Damian Lillard   \n",
       "\n",
       "  POSITION   PTS TEAM  \n",
       "0       PG  37.0   GS  \n",
       "1       PG  30.3  OKC  \n",
       "2       SF  29.8  OKC  \n",
       "3       PF  29.5  LAC  \n",
       "4       PG  25.5  POR  "
      ]
     },
     "execution_count": 10,
     "metadata": {},
     "output_type": "execute_result"
    }
   ],
   "source": [
    "import pandas as pd\n",
    "import numpy as np\n",
    "\n",
    "df = pd.DataFrame.from_dict(players_stats_dicts)\n",
    "df.head()"
   ]
  },
  {
   "cell_type": "markdown",
   "metadata": {},
   "source": [
    "Now here is a 2nd way we can do it.  We convert the 2D stats array into a numpy array and create a Pandas dataframe from it along with the list of column headers we defined earlier."
   ]
  },
  {
   "cell_type": "markdown",
   "metadata": {
    "collapsed": false
   },
   "source": [
    "np_array = np.array(players_stats_array)\n",
    "df = pd.DataFrame(np_array, columns=cols)\n",
    "df.head()"
   ]
  },
  {
   "cell_type": "markdown",
   "metadata": {},
   "source": [
    "## Exercise\n",
    "\n",
    "The goal of this exercise is to combine the scoring and assists statistics for every player in the NBA in 2014-2015.  The end result will have them in a pandas dataframe with the fields from both pages for every player.\n",
    "\n",
    "The general steps should be as follows:\n",
    "- Create a function get_cols that retrieves the names of the header columns given a table element (skip the ranks, split the positions)\n",
    "- Create a function get_data that retrieves the actual table data given a table element (skip the ranks, split the positions).  You can use either the dict approach or the numpy array approach.\n",
    "- Write a python loop to loop through the various pages and call these functions on the appropriate urls so that you can retrieve every player (rather than just the top few).\n",
    "- Repeat the above on both the scoring and assists URLs to get a pandas dataframe for both of them\n",
    "- Use the pandas.DataFrame.join() function to join your 2 pandas dataframes together and get a total result"
   ]
  },
  {
   "cell_type": "markdown",
   "metadata": {},
   "source": [
    "## Tasks"
   ]
  },
  {
   "cell_type": "markdown",
   "metadata": {
    "collapsed": false
   },
   "source": [
    "Create a function get_cols that retrieves the names of the header columns given a table element (skip the ranks, split the positions)"
   ]
  },
  {
   "cell_type": "code",
   "execution_count": 13,
   "metadata": {
    "collapsed": true
   },
   "outputs": [],
   "source": []
  },
  {
   "cell_type": "markdown",
   "metadata": {
    "collapsed": true
   },
   "source": [
    "Create a function get_data that retrieves the actual table data given a table element (skip the ranks, split the positions).  You can use either the dict approach or the numpy array approach.\n"
   ]
  },
  {
   "cell_type": "code",
   "execution_count": null,
   "metadata": {
    "collapsed": true
   },
   "outputs": [],
   "source": []
  },
  {
   "cell_type": "markdown",
   "metadata": {
    "collapsed": true
   },
   "source": [
    "- Write a python loop to loop through the various pages and call these functions on the appropriate urls so that you can retrieve every player (rather than just the top few).\n"
   ]
  },
  {
   "cell_type": "code",
   "execution_count": null,
   "metadata": {
    "collapsed": true
   },
   "outputs": [],
   "source": []
  },
  {
   "cell_type": "markdown",
   "metadata": {
    "collapsed": true
   },
   "source": [
    "- Repeat the above on both the scoring and assists URLs to get a pandas dataframe for both of them"
   ]
  },
  {
   "cell_type": "code",
   "execution_count": null,
   "metadata": {
    "collapsed": true
   },
   "outputs": [],
   "source": []
  },
  {
   "cell_type": "markdown",
   "metadata": {
    "collapsed": true
   },
   "source": [
    "- Use the pandas.DataFrame.join() function to join your 2 pandas dataframes together and get a total result\n"
   ]
  },
  {
   "cell_type": "code",
   "execution_count": null,
   "metadata": {
    "collapsed": true
   },
   "outputs": [],
   "source": []
  }
 ],
 "metadata": {
  "kernelspec": {
   "display_name": "Python 2",
   "language": "python",
   "name": "python2"
  },
  "language_info": {
   "codemirror_mode": {
    "name": "ipython",
    "version": 2
   },
   "file_extension": ".py",
   "mimetype": "text/x-python",
   "name": "python",
   "nbconvert_exporter": "python",
   "pygments_lexer": "ipython2",
   "version": "2.7.10"
  }
 },
 "nbformat": 4,
 "nbformat_minor": 0
}
